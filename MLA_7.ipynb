{
 "cells": [
  {
   "cell_type": "code",
   "execution_count": 77,
   "id": "617c9933-40c5-4f14-82db-9cc8fce47733",
   "metadata": {},
   "outputs": [],
   "source": [
    "# Imports\n",
    "import pandas as pd\n",
    "import numpy as np\n",
    "from sklearn.model_selection import train_test_split, GridSearchCV, StratifiedKFold\n",
    "from sklearn.preprocessing import LabelEncoder, StandardScaler\n",
    "from sklearn.neighbors import KNeighborsClassifier\n",
    "from sklearn.linear_model import LogisticRegression\n",
    "from sklearn.naive_bayes import GaussianNB\n",
    "from sklearn.tree import DecisionTreeClassifier\n",
    "from sklearn.svm import SVC\n",
    "from sklearn.metrics import accuracy_score"
   ]
  },
  {
   "cell_type": "code",
   "execution_count": 78,
   "id": "b04686fc-879f-47ba-8205-a2fffceee048",
   "metadata": {},
   "outputs": [],
   "source": [
    "# Load file\n",
    "data = pd.read_csv('Telco-Customer-Churn.csv')"
   ]
  },
  {
   "cell_type": "code",
   "execution_count": 79,
   "id": "ba03a4d6-5408-4aa0-9400-d816be2d5b31",
   "metadata": {},
   "outputs": [],
   "source": [
    "# Pre-processing\n",
    "if 'customerID' in data.columns:\n",
    "    data.drop(columns = ['customerID'], inplace = True)\n",
    "    \n",
    "label_encoders = {}\n",
    "for column in data.select_dtypes(include = ['object']).columns:\n",
    "    le=LabelEncoder()\n",
    "    data[column] = le.fit_transform(data[column])\n",
    "    label_encoders[column] = data[column]\n",
    "\n",
    "X = data.iloc[:,:-1].values\n",
    "y = data.iloc[:,-1].values\n",
    "\n",
    "X_train, X_test, y_train, y_test = train_test_split(X,y,test_size=0.3,random_state=52)\n",
    "\n",
    "scaler = StandardScaler()\n",
    "X_train = scaler.fit_transform(X_train)\n",
    "X_test = scaler.transform(X_test)"
   ]
  },
  {
   "cell_type": "code",
   "execution_count": 80,
   "id": "f4a1a327-24e6-45ff-afb1-805902570df4",
   "metadata": {},
   "outputs": [
    {
     "name": "stdout",
     "output_type": "stream",
     "text": [
      "{'KNN': KNeighborsClassifier(n_neighbors=9), 'Logistic Regression': LogisticRegression(C=0.1, solver='saga'), 'Naive Bayes': GaussianNB(), 'Decision Tree': DecisionTreeClassifier(max_depth=5, min_samples_split=10), 'SVM': SVC(C=1, kernel='linear')}\n"
     ]
    }
   ],
   "source": [
    "# Modelling and Cross-validation\n",
    "models = {\n",
    "    'KNN': KNeighborsClassifier(),\n",
    "    'Logistic Regression': LogisticRegression(),\n",
    "    'Naive Bayes': GaussianNB(),\n",
    "    'Decision Tree': DecisionTreeClassifier(),\n",
    "    'SVM': SVC()\n",
    "}\n",
    "\n",
    "cv_strat = StratifiedKFold(n_splits=5, shuffle=True, random_state=52)\n",
    "\n",
    "param_grids = {\n",
    "    'KNN': {'n_neighbors': [3, 5, 7, 9], 'weights': ['uniform', 'distance']},\n",
    "    'Logistic Regression': {'C': [0.1, 1, 10], 'solver': ['liblinear', 'saga']},\n",
    "    'Naive Bayes': {},\n",
    "    'Decision Tree': {'max_depth': [3, 5, 10], 'min_samples_split': [2, 10, 20]},\n",
    "    'SVM': {'C': [0.1, 1, 10], 'kernel': ['linear', 'rbf'], 'gamma': ['scale', 'auto']}\n",
    "}\n",
    "\n",
    "best_models = {}\n",
    "\n",
    "for name,model in models.items():\n",
    "    grid_search = GridSearchCV(estimator=model, param_grid=param_grids[name], cv=cv_strat, n_jobs=-1, scoring='accuracy')\n",
    "    grid_search.fit(X_train, y_train)\n",
    "\n",
    "    best_models[name] = grid_search.best_estimator_\n",
    "\n",
    "print(best_models)"
   ]
  },
  {
   "cell_type": "code",
   "execution_count": 81,
   "id": "a1c9f180-9497-40f0-9824-ca849ba559b8",
   "metadata": {},
   "outputs": [
    {
     "name": "stdout",
     "output_type": "stream",
     "text": [
      "KNN Test Accuracy: 0.7728\n",
      "Logistic Regression Test Accuracy: 0.8140\n",
      "Naive Bayes Test Accuracy: 0.7596\n",
      "Decision Tree Test Accuracy: 0.7894\n",
      "SVM Test Accuracy: 0.8135\n",
      "\n",
      "Best Model: Logistic Regression with Accuracy Score 0.8140\n"
     ]
    }
   ],
   "source": [
    "# Predictions\n",
    "accuracies = {}\n",
    "\n",
    "for name, model in best_models.items():\n",
    "    y_pred = model.predict(X_test)\n",
    "    acc = accuracy_score(y_test, y_pred)\n",
    "    accuracies[name] = acc\n",
    "    print(f'{name} Test Accuracy: {acc:.4f}')\n",
    "\n",
    "best_model = max(accuracies, key=accuracies.get)\n",
    "best_accuracy = accuracies[best_model]\n",
    "print(f'\\nBest Model: {best_model} with Accuracy Score {best_accuracy:.4f}')"
   ]
  },
  {
   "cell_type": "code",
   "execution_count": null,
   "id": "29b70ff1-84cc-4a13-b2dd-7c21621369e4",
   "metadata": {},
   "outputs": [],
   "source": []
  }
 ],
 "metadata": {
  "kernelspec": {
   "display_name": "Python 3 (ipykernel)",
   "language": "python",
   "name": "python3"
  },
  "language_info": {
   "codemirror_mode": {
    "name": "ipython",
    "version": 3
   },
   "file_extension": ".py",
   "mimetype": "text/x-python",
   "name": "python",
   "nbconvert_exporter": "python",
   "pygments_lexer": "ipython3",
   "version": "3.12.8"
  }
 },
 "nbformat": 4,
 "nbformat_minor": 5
}
