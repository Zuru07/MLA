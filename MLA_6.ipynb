{
 "cells": [
  {
   "cell_type": "code",
   "execution_count": 29,
   "id": "ec29ac6a-ba9e-478b-81a2-88a9965ae5f6",
   "metadata": {},
   "outputs": [],
   "source": [
    "import pandas as pd\n",
    "import numpy as np\n",
    "from sklearn.model_selection import train_test_split\n",
    "from sklearn.tree import DecisionTreeClassifier\n",
    "from sklearn.metrics import accuracy_score\n",
    "from sklearn.preprocessing import StandardScaler"
   ]
  },
  {
   "cell_type": "code",
   "execution_count": 30,
   "id": "14d72dec-3b83-4492-8199-0d520b883c00",
   "metadata": {},
   "outputs": [
    {
     "name": "stdout",
     "output_type": "stream",
     "text": [
      "Model Accuracy: 0.8750\n"
     ]
    }
   ],
   "source": [
    "# Using OOPS and Hardcoding DecisionTreeClassifier\n",
    "\n",
    "class DecisionTreeClassifierCustom:\n",
    "    def __init__(self, max_depth=None, criterion='entropy'):\n",
    "        self.max_depth = max_depth\n",
    "        self.criterion = criterion\n",
    "        self.tree = None\n",
    "\n",
    "    def entropy(self, y):\n",
    "        unique_classes, counts = np.unique(y, return_counts=True)\n",
    "        probabilities = counts / counts.sum()\n",
    "        return -np.sum(probabilities * np.log2(probabilities))\n",
    "\n",
    "    def gini_index(self, y):\n",
    "        unique_classes, counts = np.unique(y, return_counts=True)\n",
    "        probabilities = counts / counts.sum()\n",
    "        return 1 - np.sum(probabilities ** 2)\n",
    "\n",
    "    def impurity(self, y):\n",
    "        if self.criterion == 'gini':\n",
    "            return self.gini_index(y)\n",
    "        return self.entropy(y)\n",
    "\n",
    "    def information_gain(self, X_column, y, threshold):\n",
    "        left_mask = X_column <= threshold\n",
    "        right_mask = ~left_mask\n",
    "        left_impurity = self.impurity(y[left_mask])\n",
    "        right_impurity = self.impurity(y[right_mask])\n",
    "        left_weight = np.sum(left_mask) / len(y)\n",
    "        right_weight = np.sum(right_mask) / len(y)\n",
    "        return self.impurity(y) - (left_weight * left_impurity + right_weight * right_impurity)\n",
    "\n",
    "    def best_split(self, X, y):\n",
    "        best_gain = 0\n",
    "        best_feature = None\n",
    "        best_threshold = None\n",
    "        for feature in range(X.shape[1]):\n",
    "            thresholds = np.unique(X[:, feature])\n",
    "            for threshold in thresholds:\n",
    "                gain = self.information_gain(X[:, feature], y, threshold)\n",
    "                if gain > best_gain:\n",
    "                    best_gain, best_feature, best_threshold = gain, feature, threshold\n",
    "        return best_feature, best_threshold, best_gain\n",
    "\n",
    "    def build_tree(self, X, y, depth=0):\n",
    "        if len(np.unique(y)) == 1 or (self.max_depth and depth >= self.max_depth):\n",
    "            return np.bincount(y).argmax()\n",
    "        feature, threshold, gain = self.best_split(X, y)\n",
    "        if gain == 0:\n",
    "            return np.bincount(y).argmax()\n",
    "        left_mask = X[:, feature] <= threshold\n",
    "        right_mask = ~left_mask\n",
    "        left_subtree = self.build_tree(X[left_mask], y[left_mask], depth + 1)\n",
    "        right_subtree = self.build_tree(X[right_mask], y[right_mask], depth + 1)\n",
    "        return (feature, threshold, left_subtree, right_subtree)\n",
    "\n",
    "    def fit(self, X, y):\n",
    "        self.tree = self.build_tree(X, y)\n",
    "\n",
    "    def predict_sample(self, sample, node):\n",
    "        if isinstance(node, (int, np.integer)):\n",
    "            return node\n",
    "        feature, threshold, left_subtree, right_subtree = node\n",
    "        if sample[feature] <= threshold:\n",
    "            return self.predict_sample(sample, left_subtree)\n",
    "        else:\n",
    "            return self.predict_sample(sample, right_subtree)\n",
    "\n",
    "    def predict(self, X):\n",
    "        return np.array([self.predict_sample(sample, self.tree) for sample in X])\n",
    "\n",
    "# Load dataset\n",
    "file_path = \"classification.csv\"\n",
    "df = pd.read_csv(file_path)\n",
    "\n",
    "# Handle missing values\n",
    "df.dropna(inplace=True)\n",
    "\n",
    "# Extract features and target\n",
    "X = df.iloc[:,:-1].values\n",
    "y = df.iloc[:,-1].values\n",
    "\n",
    "# Feature Scaling\n",
    "scaler = StandardScaler()\n",
    "X = scaler.fit_transform(X)\n",
    "\n",
    "# Split dataset\n",
    "X_train, X_test, y_train, y_test = train_test_split(X, y, test_size=0.2, random_state=23)\n",
    "\n",
    "# Train and evaluate the model\n",
    "dt = DecisionTreeClassifierCustom(max_depth=10, criterion='gini')\n",
    "dt.fit(X_train, y_train)\n",
    "y_pred = dt.predict(X_test)\n",
    "accuracy = np.mean(y_pred == y_test)\n",
    "print(f\"Model Accuracy: {accuracy:.4f}\")"
   ]
  },
  {
   "cell_type": "code",
   "execution_count": 27,
   "id": "503d08a3-7475-4dbd-b7ce-ba34643e99ea",
   "metadata": {},
   "outputs": [
    {
     "name": "stdout",
     "output_type": "stream",
     "text": [
      "Model Accuracy: 0.8833\n"
     ]
    }
   ],
   "source": [
    "# Sklearn library performance\n",
    "df = pd.read_csv('classification.csv')\n",
    "X = df.iloc[:,:-1].values\n",
    "y = df.iloc[:,-1].values\n",
    "\n",
    "# Feature Scaling\n",
    "scaler = StandardScaler()\n",
    "new_X = scaler.fit_transform(X)\n",
    "\n",
    "X_train, X_test, y_train, y_test = train_test_split(new_X,y,test_size=0.3,random_state=52)\n",
    "\n",
    "dt_cf = DecisionTreeClassifier(max_depth=10,random_state=52)\n",
    "dt_cf.fit(X_train,y_train)\n",
    "y_pred = dt_cf.predict(X_test)\n",
    "accuracy = accuracy_score(y_test,y_pred)\n",
    "print(f\"Model Accuracy: {accuracy:.4f}\")"
   ]
  },
  {
   "cell_type": "code",
   "execution_count": null,
   "id": "bb2e0d28-63ec-4c3c-a11c-ea5f024ab1e3",
   "metadata": {},
   "outputs": [],
   "source": []
  }
 ],
 "metadata": {
  "kernelspec": {
   "display_name": "Python 3 (ipykernel)",
   "language": "python",
   "name": "python3"
  },
  "language_info": {
   "codemirror_mode": {
    "name": "ipython",
    "version": 3
   },
   "file_extension": ".py",
   "mimetype": "text/x-python",
   "name": "python",
   "nbconvert_exporter": "python",
   "pygments_lexer": "ipython3",
   "version": "3.12.8"
  }
 },
 "nbformat": 4,
 "nbformat_minor": 5
}
